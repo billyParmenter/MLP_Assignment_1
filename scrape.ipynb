{
 "cells": [
  {
   "cell_type": "code",
   "execution_count": null,
   "metadata": {},
   "outputs": [],
   "source": [
    "\n",
    "from selenium import webdriver\n",
    "from selenium.webdriver.chrome.options import Options\n",
    "from bs4 import BeautifulSoup\n",
    "import pandas as pd\n",
    "from selenium.webdriver.support import expected_conditions\n",
    "from selenium.webdriver.support.ui import WebDriverWait\n",
    "from selenium.common.exceptions import WebDriverException\n",
    "from selenium.webdriver.common.by import By\n",
    "import time \n",
    "\n",
    "# Define the URL you want to scrape\n",
    "\n",
    "def get_tweets(user):\n",
    "\n",
    "    url = f'https://twitter.com/{user}'\n",
    "\n",
    "    # Define the options for the Chrome webdriver to mimic a real page\n",
    "    options = Options()\n",
    "    options.add_argument('--headless')\n",
    "    options.add_argument(\"--incognito\")\n",
    "    options.add_argument('--disable-gpu')\n",
    "    options.add_argument('--no-sandbox')\n",
    "    options.add_argument('--disable-dev-shm-usage')\n",
    "    options.add_argument('--user-agent=Mozilla/5.0 (Windows NT 10.0; Win64; x64) AppleWebKit/537.36 (KHTML, like Gecko) Chrome/58.0.3029.110 Safari/537.3')\n",
    "    options.add_argument(\"--enable-javascript\")\n",
    "\n",
    "    # Create a new instance of the Chrome webdriver with the defined options\n",
    "    driver = webdriver.Chrome(options=options)\n",
    "\n",
    "    # Load the Twitter page in the webdriver\n",
    "    driver.get(url)\n",
    "\n",
    "    # Wait for tweets to populate the page\n",
    "    try:\n",
    "        WebDriverWait(driver, 5).until(expected_conditions.presence_of_element_located(\n",
    "            (By.CSS_SELECTOR, '[data-testid=\"tweet\"]')))\n",
    "    except WebDriverException:\n",
    "        print(\"Something happened. No tweets loaded\")\n",
    "        return\n",
    "\n",
    "    # Extract the HTML content of the page using BeautifulSoup\n",
    "    html_content = driver.page_source\n",
    "    soup = BeautifulSoup(html_content, 'html.parser')\n",
    "\n",
    "    posts = soup.find_all(attrs={\"data-testid\": \"tweetText\"})\n",
    "\n",
    "    # Extract the text content of each post\n",
    "    post_content = [post.text for post in posts]\n",
    "\n",
    "    # Save the scraped data in a CSV file\n",
    "    data = pd.DataFrame(post_content)\n",
    "\n",
    "    # Close the webdriver\n",
    "    driver.quit()\n",
    "\n",
    "    # Print the scraped data\n",
    "    return(data)"
   ]
  },
  {
   "cell_type": "code",
   "execution_count": null,
   "metadata": {},
   "outputs": [],
   "source": [
    "text = pd.read_csv('./twitter_posts.csv', delimiter=',', header=None)\n",
    "text"
   ]
  },
  {
   "cell_type": "code",
   "execution_count": null,
   "metadata": {},
   "outputs": [],
   "source": [
    "df = pd.read_csv('./data/dataset.csv', delimiter=',')\n",
    "i = 0\n",
    "tweets = pd.DataFrame()\n",
    "for i in range(2, len(df)):\n",
    "    if i % 10 == 0:\n",
    "        print(i,'/',len(df)) \n",
    "    tweets = get_tweets(df['Twitter_username'][i])\n",
    "    try:\n",
    "        tweets.to_csv('./data/twitter_posts.csv', mode='a',index=False, header=False)\n",
    "    except:\n",
    "        continue"
   ]
  },
  {
   "cell_type": "code",
   "execution_count": null,
   "metadata": {},
   "outputs": [],
   "source": [
    "print(get_tweets('realdonaldtrump'))"
   ]
  },
  {
   "cell_type": "code",
   "execution_count": null,
   "metadata": {},
   "outputs": [],
   "source": [
    "print(tweets)"
   ]
  }
 ],
 "metadata": {
  "kernelspec": {
   "display_name": "Python 3",
   "language": "python",
   "name": "python3"
  },
  "language_info": {
   "codemirror_mode": {
    "name": "ipython",
    "version": 3
   },
   "file_extension": ".py",
   "mimetype": "text/x-python",
   "name": "python",
   "nbconvert_exporter": "python",
   "pygments_lexer": "ipython3",
   "version": "3.10.11"
  },
  "orig_nbformat": 4
 },
 "nbformat": 4,
 "nbformat_minor": 2
}
